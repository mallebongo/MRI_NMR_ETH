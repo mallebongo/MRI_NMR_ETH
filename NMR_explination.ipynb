{
 "cells": [
  {
   "cell_type": "code",
   "id": "initial_id",
   "metadata": {
    "collapsed": true,
    "ExecuteTime": {
     "end_time": "2025-02-03T18:52:07.052426Z",
     "start_time": "2025-02-03T18:52:07.014784Z"
    }
   },
   "source": [
    "import numpy as np\n",
    "import matplotlib.pyplot as plt\n",
    "from ipywidgets import interact, FloatSlider, fixed\n",
    "\n",
    "# Zorg ervoor dat de notebook de widgets weergeeft:\n",
    "%matplotlib inline\n",
    "\n",
    "def plot_t1_relaxation(T1=1.0):\n",
    "    \"\"\"\n",
    "    Plot de T1-relaxatiecurve: Mz(t) = M0 * (1 - exp(-t/T1))\n",
    "    waarbij M0 = 1.0.\n",
    "    \"\"\"\n",
    "    t = np.linspace(0, 5, 1000)\n",
    "    M0 = 1.0\n",
    "    Mz = M0 * (1 - np.exp(-t/T1))\n",
    "    plt.figure(figsize=(8, 4))\n",
    "    plt.plot(t, Mz, label=r'$M_z(t)=M_0(1-e^{-t/T_1})$')\n",
    "    plt.xlabel(\"Tijd (s)\")\n",
    "    plt.ylabel(\"Longitudinale magnetisatie\")\n",
    "    plt.title(f\"T₁-relaxatie (T₁ = {T1:.2f} s)\")\n",
    "    plt.legend()\n",
    "    plt.show()\n",
    "\n",
    "def plot_free_induction_decay(T2=0.05):\n",
    "    \"\"\"\n",
    "    Plot een simulatie van het Free Induction Decay (FID):\n",
    "    S(t) = S0 * exp(-t/T2) * cos(omega*t), met S0 = 1 en omega uit de Larmor-vergelijking.\n",
    "    \"\"\"\n",
    "    t = np.linspace(0, 0.1, 1000)\n",
    "    gamma = 2 * np.pi * 42.58e6  # rad/s/T voor protonen (42.58 MHz/T)\n",
    "    B0 = 1.5  # Tesla\n",
    "    omega = gamma * B0\n",
    "    S0 = 1.0\n",
    "    S = S0 * np.exp(-t/T2) * np.cos(omega*t)\n",
    "    plt.figure(figsize=(8, 4))\n",
    "    plt.plot(t, S, label=\"FID-signaal\")\n",
    "    plt.xlabel(\"Tijd (ms)\")\n",
    "    plt.ylabel(\"Signaalamplitude\")\n",
    "    plt.title(f\"Free Induction Decay (T₂ = {T2:.3f} s)\")\n",
    "    plt.legend()\n",
    "    plt.show()\n",
    "\n",
    "def plot_t1_weighting(TR=1.0, T1=1.0):\n",
    "    \"\"\"\n",
    "    Plot de T₁-gewogen signaalintensiteit:\n",
    "      S(TR) ∝ ρ (1 - exp(-TR/T1))\n",
    "    met ρ = 1.0.\n",
    "    \"\"\"\n",
    "    TRs = np.linspace(0.1, 3, 1000)\n",
    "    rho = 1.0\n",
    "    S = rho * (1 - np.exp(-TRs/T1))\n",
    "    plt.figure(figsize=(8, 4))\n",
    "    plt.plot(TRs, S, label=r'$S\\\\propto\\\\rho(1-e^{-TR/T_1})$')\n",
    "    plt.xlabel(\"Herhalings tijd TR (s)\")\n",
    "    plt.ylabel(\"Signaalintensiteit (a.u.)\")\n",
    "    plt.title(f\"T₁-gewogen signaal (T₁ = {T1:.2f} s, TR = {TR:.2f} s)\")\n",
    "    plt.legend()\n",
    "    plt.show()\n",
    "\n",
    "def plot_mr_contrast(TR=1.0, T1=1.0, TE=0.03, T2=0.05):\n",
    "    \"\"\"\n",
    "    Plot de MR contrastvergelijking:\n",
    "      S ∝ ρ (1 - exp(-TR/T1)) exp(-TE/T2)\n",
    "    met ρ = 1.0.\n",
    "    \"\"\"\n",
    "    TRs = np.linspace(0.1, 3, 1000)\n",
    "    rho = 1.0\n",
    "    S = rho * (1 - np.exp(-TRs/T1)) * np.exp(-TE/T2)\n",
    "    plt.figure(figsize=(8, 4))\n",
    "    plt.plot(TRs, S, label=r'$S\\\\propto\\\\rho(1-e^{-TR/T_1})e^{-TE/T_2}$')\n",
    "    plt.xlabel(\"Herhalings tijd TR (s)\")\n",
    "    plt.ylabel(\"Signaalintensiteit (a.u.)\")\n",
    "    plt.title(f\"MR Contrast: T₁ = {T1:.2f} s, T₂ = {T2:.3f} s, TE = {TE:.3f} s\")\n",
    "    plt.legend()\n",
    "    plt.show()"
   ],
   "outputs": [],
   "execution_count": 12
  },
  {
   "metadata": {
    "ExecuteTime": {
     "end_time": "2025-02-03T18:52:08.134581Z",
     "start_time": "2025-02-03T18:52:07.865343Z"
    }
   },
   "cell_type": "code",
   "source": [
    "# Gebruik interact() om sliders te maken:\n",
    "print(\"Interactieve T₁-relaxatie:\")\n",
    "interact(plot_t1_relaxation, T1=FloatSlider(min=0.1, max=3.0, step=0.1, value=1.0, description='T₁ (s)'));"
   ],
   "id": "aec7b29addeb22d1",
   "outputs": [
    {
     "name": "stdout",
     "output_type": "stream",
     "text": [
      "Interactieve T₁-relaxatie:\n"
     ]
    },
    {
     "data": {
      "text/plain": [
       "interactive(children=(FloatSlider(value=1.0, description='T₁ (s)', max=3.0, min=0.1), Output()), _dom_classes=…"
      ],
      "application/vnd.jupyter.widget-view+json": {
       "version_major": 2,
       "version_minor": 0,
       "model_id": "42d9af1fe6d340cdaed84f636d7f9df5"
      }
     },
     "metadata": {},
     "output_type": "display_data"
    }
   ],
   "execution_count": 13
  },
  {
   "metadata": {
    "ExecuteTime": {
     "end_time": "2025-02-03T18:52:08.995133Z",
     "start_time": "2025-02-03T18:52:08.801758Z"
    }
   },
   "cell_type": "code",
   "source": [
    "print(\"Interactieve Free Induction Decay (FID):\")\n",
    "interact(plot_free_induction_decay, T2=FloatSlider(min=0.01, max=0.2, step=0.0005, value=0.05, description='T₂ (s)'));"
   ],
   "id": "212e7b018e6753b4",
   "outputs": [
    {
     "name": "stdout",
     "output_type": "stream",
     "text": [
      "Interactieve Free Induction Decay (FID):\n"
     ]
    },
    {
     "data": {
      "text/plain": [
       "interactive(children=(FloatSlider(value=0.05, description='T₂ (s)', max=0.2, min=0.01, step=0.0005), Output())…"
      ],
      "application/vnd.jupyter.widget-view+json": {
       "version_major": 2,
       "version_minor": 0,
       "model_id": "a2519c2d288d44c380b8f54e56326587"
      }
     },
     "metadata": {},
     "output_type": "display_data"
    }
   ],
   "execution_count": 14
  },
  {
   "metadata": {
    "ExecuteTime": {
     "end_time": "2025-02-03T18:52:31.926008Z",
     "start_time": "2025-02-03T18:52:31.518235Z"
    }
   },
   "cell_type": "code",
   "source": [
    "print(\"Interactieve T₁-gewogen signaal:\")\n",
    "interact(plot_t1_weighting, TR=FloatSlider(min=0.1, max=3.0, step=0.1, value=1.0, description='TR (s)'),\n",
    "         T1=FloatSlider(min=0.1, max=3.0, step=0.1, value=1.0, description='T₁ (s)'));"
   ],
   "id": "ec69ac181c548c94",
   "outputs": [
    {
     "name": "stdout",
     "output_type": "stream",
     "text": [
      "Interactieve T₁-gewogen signaal:\n"
     ]
    },
    {
     "data": {
      "text/plain": [
       "interactive(children=(FloatSlider(value=1.0, description='TR (s)', max=3.0, min=0.1), FloatSlider(value=1.0, d…"
      ],
      "application/vnd.jupyter.widget-view+json": {
       "version_major": 2,
       "version_minor": 0,
       "model_id": "e08d4419a61b443286c0a2ca001bdc19"
      }
     },
     "metadata": {},
     "output_type": "display_data"
    }
   ],
   "execution_count": 15
  },
  {
   "metadata": {
    "ExecuteTime": {
     "end_time": "2025-02-03T18:50:03.403827Z",
     "start_time": "2025-02-03T18:50:02.500397Z"
    }
   },
   "cell_type": "code",
   "source": [
    "print(\"Interactieve MR Contrast:\")\n",
    "interact(plot_mr_contrast,\n",
    "         TR=FloatSlider(min=0.1, max=3.0, step=0.1, value=1.0, description='TR (s)'),\n",
    "         T1=FloatSlider(min=0.1, max=3.0, step=0.1, value=1.0, description='T₁ (s)'),\n",
    "         TE=FloatSlider(min=0.005, max=0.1, step=0.005, value=0.03, description='TE (s)'),\n",
    "         T2=FloatSlider(min=0.01, max=0.2, step=0.005, value=0.05, description='T₂ (s)'));"
   ],
   "id": "2a1ba463bbe34dfa",
   "outputs": [
    {
     "name": "stdout",
     "output_type": "stream",
     "text": [
      "Interactieve MR Contrast:\n"
     ]
    },
    {
     "data": {
      "text/plain": [
       "interactive(children=(FloatSlider(value=1.0, description='TR (s)', max=3.0, min=0.1), FloatSlider(value=1.0, d…"
      ],
      "application/vnd.jupyter.widget-view+json": {
       "version_major": 2,
       "version_minor": 0,
       "model_id": "1f8ca9f73e8749a69197dda30a51404e"
      }
     },
     "metadata": {},
     "output_type": "display_data"
    }
   ],
   "execution_count": 10
  },
  {
   "metadata": {
    "ExecuteTime": {
     "end_time": "2025-02-03T18:54:16.465198Z",
     "start_time": "2025-02-03T18:54:16.444164Z"
    }
   },
   "cell_type": "code",
   "source": [
    "def plot_t1_weighting(TR=1.0, T1=1.0):\n",
    "    \"\"\"\n",
    "    Plot de T₁-gewogen signaalintensiteit:\n",
    "      S(TR) ∝ ρ (1 - exp(-TR/T₁))\n",
    "    met ρ = 1.0. De volledige curve wordt getekend en er wordt een\n",
    "    verticale lijn getekend op de waarde van TR (uit de slider).\n",
    "    \"\"\"\n",
    "    TRs = np.linspace(0.1, 3, 1000)\n",
    "    rho = 1.0\n",
    "    S = rho * (1 - np.exp(-TRs / T1))\n",
    "    plt.figure(figsize=(8, 4))\n",
    "    plt.plot(TRs, S, label=r'$S\\propto\\rho(1-e^{-TR/T_1})$')\n",
    "    plt.axvline(TR, color='red', linestyle='--', label=f\"TR = {TR:.2f} s\")\n",
    "    plt.xlabel(\"Herhalings tijd TR (s)\")\n",
    "    plt.ylabel(\"Signaalintensiteit (a.u.)\")\n",
    "    plt.title(f\"T₁-gewogen signaal (T₁ = {T1:.2f} s)\")\n",
    "    plt.legend()\n",
    "    plt.show()\n",
    "\n",
    "def plot_mr_contrast(TR=1.0, T1=1.0, TE=0.03, T2=0.05):\n",
    "    \"\"\"\n",
    "    Plot de MR contrastvergelijking:\n",
    "      S ∝ ρ (1 - exp(-TR/T₁)) exp(-TE/T₂)\n",
    "    met ρ = 1.0. Er wordt een curve getekend als functie van TR,\n",
    "    en er wordt een verticale lijn op de gekozen TR-waarde getekend.\n",
    "    \"\"\"\n",
    "    TRs = np.linspace(0.1, 3, 1000)\n",
    "    rho = 1.0\n",
    "    S = rho * (1 - np.exp(-TRs / T1)) * np.exp(-TE / T2)\n",
    "    plt.figure(figsize=(8, 4))\n",
    "    plt.plot(TRs, S, label=r'$S\\propto\\rho(1-e^{-TR/T_1})e^{-TE/T_2}$')\n",
    "    plt.axvline(TR, color='red', linestyle='--', label=f\"TR = {TR:.2f} s\")\n",
    "    plt.xlabel(\"Herhalings tijd TR (s)\")\n",
    "    plt.ylabel(\"Signaalintensiteit (a.u.)\")\n",
    "    plt.title(f\"MR Contrast: T₁ = {T1:.2f} s, T₂ = {T2:.3f} s, TE = {TE:.3f} s\")\n",
    "    plt.legend()\n",
    "    plt.show()\n"
   ],
   "id": "3db4f07bb27f0d12",
   "outputs": [],
   "execution_count": 16
  },
  {
   "metadata": {
    "ExecuteTime": {
     "end_time": "2025-02-03T18:54:18.907340Z",
     "start_time": "2025-02-03T18:54:18.446309Z"
    }
   },
   "cell_type": "code",
   "source": [
    "from ipywidgets import interact, FloatSlider\n",
    "\n",
    "print(\"Interactieve T₁-gewogen signaal:\")\n",
    "interact(plot_t1_weighting, \n",
    "         TR=FloatSlider(min=0.1, max=3.0, step=0.1, value=1.0, description='TR (s)'),\n",
    "         T1=FloatSlider(min=0.1, max=3.0, step=0.1, value=1.0, description='T₁ (s)'));\n",
    "\n",
    "print(\"Interactieve MR Contrast:\")\n",
    "interact(plot_mr_contrast,\n",
    "         TR=FloatSlider(min=0.1, max=3.0, step=0.1, value=1.0, description='TR (s)'),\n",
    "         T1=FloatSlider(min=0.1, max=3.0, step=0.1, value=1.0, description='T₁ (s)'),\n",
    "         TE=FloatSlider(min=0.005, max=0.1, step=0.005, value=0.03, description='TE (s)'),\n",
    "         T2=FloatSlider(min=0.01, max=0.2, step=0.005, value=0.05, description='T₂ (s)'));\n"
   ],
   "id": "ef74ccc4dea4bece",
   "outputs": [
    {
     "name": "stdout",
     "output_type": "stream",
     "text": [
      "Interactieve T₁-gewogen signaal:\n"
     ]
    },
    {
     "data": {
      "text/plain": [
       "interactive(children=(FloatSlider(value=1.0, description='TR (s)', max=3.0, min=0.1), FloatSlider(value=1.0, d…"
      ],
      "application/vnd.jupyter.widget-view+json": {
       "version_major": 2,
       "version_minor": 0,
       "model_id": "b92fe68f6f4b48e9a187db082d359159"
      }
     },
     "metadata": {},
     "output_type": "display_data"
    },
    {
     "name": "stdout",
     "output_type": "stream",
     "text": [
      "Interactieve MR Contrast:\n"
     ]
    },
    {
     "data": {
      "text/plain": [
       "interactive(children=(FloatSlider(value=1.0, description='TR (s)', max=3.0, min=0.1), FloatSlider(value=1.0, d…"
      ],
      "application/vnd.jupyter.widget-view+json": {
       "version_major": 2,
       "version_minor": 0,
       "model_id": "ae2d51036b0b4b2ca74e927682f5ced1"
      }
     },
     "metadata": {},
     "output_type": "display_data"
    }
   ],
   "execution_count": 17
  },
  {
   "metadata": {
    "ExecuteTime": {
     "end_time": "2025-02-03T18:57:57.346551Z",
     "start_time": "2025-02-03T18:57:56.866408Z"
    }
   },
   "cell_type": "code",
   "source": [
    "import numpy as np\n",
    "import matplotlib.pyplot as plt\n",
    "from ipywidgets import interact, FloatSlider\n",
    "%matplotlib inline\n",
    "\n",
    "def plot_mr_contrast(TR=1.0, T1=1.0, TE=0.03, T2=0.05):\n",
    "    \"\"\"\n",
    "    Plot de MR contrastvergelijking:\n",
    "      S ∝ ρ (1 - exp(-TR/T₁)) exp(-TE/T₂)\n",
    "    met ρ = 1.0.\n",
    "    Er wordt een curve getekend als functie van TR, en er wordt een verticale lijn op de gekozen TR-waarde getekend.\n",
    "    \"\"\"\n",
    "    # Debug: print de waarden zodat je kunt zien dat T2 (en andere parameters) worden aangepast\n",
    "    print(f\"TR = {TR:.2f} s, T1 = {T1:.2f} s, TE = {TE:.3f} s, T2 = {T2:.3f} s\")\n",
    "    \n",
    "    TRs = np.linspace(0.1, 3, 1000)\n",
    "    rho = 1.0\n",
    "    S = rho * (1 - np.exp(-TRs / T1)) * np.exp(-TE / T2)\n",
    "    plt.figure(figsize=(8, 4))\n",
    "    plt.plot(TRs, S, label=r'$S\\propto\\rho(1-e^{-TR/T_1})e^{-TE/T_2}$')\n",
    "    plt.axvline(TR, color='red', linestyle='--', label=f\"TR = {TR:.2f} s\")\n",
    "    plt.xlabel(\"Herhalings tijd TR (s)\")\n",
    "    plt.ylabel(\"Signaalintensiteit (a.u.)\")\n",
    "    plt.title(f\"MR Contrast: T₁ = {T1:.2f} s, T₂ = {T2:.3f} s, TE = {TE:.3f} s\")\n",
    "    plt.legend()\n",
    "    plt.show()\n",
    "\n",
    "def plot_free_induction_decay(T2=0.05):\n",
    "    \"\"\"\n",
    "    Plot een simulatie van het Free Induction Decay (FID):\n",
    "    S(t) = S0 * exp(-t/T2) * cos(omega*t)\n",
    "    waarbij S0 = 1.0, omega is de Larmor-frequentie en T2 is de decay time.\n",
    "    \"\"\"\n",
    "    # Debug: print de waarde van T2\n",
    "    print(f\"T2 = {T2:.3f} s\")\n",
    "    \n",
    "    t = np.linspace(0, 0.1, 1000)\n",
    "    gamma = 2 * np.pi * 42.58e6  # rad/s/T voor protonen\n",
    "    B0 = 1.5  # Tesla\n",
    "    omega = gamma * B0\n",
    "    S0 = 1.0\n",
    "    S = S0 * np.exp(-t/T2) * np.cos(omega * t)\n",
    "    plt.figure(figsize=(8, 4))\n",
    "    plt.plot(t * 1e3, S, label=\"FID-signaal\")\n",
    "    plt.xlabel(\"Tijd (ms)\")\n",
    "    plt.ylabel(\"Signaalamplitude\")\n",
    "    plt.title(f\"Free Induction Decay (T₂ = {T2:.3f} s)\")\n",
    "    plt.legend()\n",
    "    plt.show()\n",
    "\n",
    "# Maak de interactieve sliders\n",
    "print(\"Interactieve MR Contrast:\")\n",
    "interact(plot_mr_contrast,\n",
    "         TR=FloatSlider(min=0.1, max=3.0, step=0.1, value=1.0, description='TR (s)'),\n",
    "         T1=FloatSlider(min=0.1, max=3.0, step=0.1, value=1.0, description='T₁ (s)'),\n",
    "         TE=FloatSlider(min=0.005, max=0.1, step=0.005, value=0.03, description='TE (s)'),\n",
    "         T2=FloatSlider(min=0.01, max=0.2, step=0.005, value=0.05, description='T₂ (s)'));\n",
    "\n",
    "print(\"Interactieve Free Induction Decay (FID):\")\n",
    "interact(plot_free_induction_decay,\n",
    "         T2=FloatSlider(min=0.01, max=0.2, step=0.005, value=0.05, description='T₂ (s)'));\n"
   ],
   "id": "b1989dd113fcaa6b",
   "outputs": [
    {
     "name": "stdout",
     "output_type": "stream",
     "text": [
      "Interactieve MR Contrast:\n"
     ]
    },
    {
     "data": {
      "text/plain": [
       "interactive(children=(FloatSlider(value=1.0, description='TR (s)', max=3.0, min=0.1), FloatSlider(value=1.0, d…"
      ],
      "application/vnd.jupyter.widget-view+json": {
       "version_major": 2,
       "version_minor": 0,
       "model_id": "4c759df7214b440087308ea556781b58"
      }
     },
     "metadata": {},
     "output_type": "display_data"
    },
    {
     "name": "stdout",
     "output_type": "stream",
     "text": [
      "Interactieve Free Induction Decay (FID):\n"
     ]
    },
    {
     "data": {
      "text/plain": [
       "interactive(children=(FloatSlider(value=0.05, description='T₂ (s)', max=0.2, min=0.01, step=0.005), Output()),…"
      ],
      "application/vnd.jupyter.widget-view+json": {
       "version_major": 2,
       "version_minor": 0,
       "model_id": "b3ab3572e1ba4cf690bc54c0dc7be432"
      }
     },
     "metadata": {},
     "output_type": "display_data"
    }
   ],
   "execution_count": 18
  },
  {
   "metadata": {
    "ExecuteTime": {
     "end_time": "2025-02-03T19:20:35.005106Z",
     "start_time": "2025-02-03T19:20:34.740873Z"
    }
   },
   "cell_type": "code",
   "source": [
    "import numpy as np\n",
    "import matplotlib.pyplot as plt\n",
    "from ipywidgets import interact, FloatSlider, Dropdown\n",
    "%matplotlib inline\n",
    "\n",
    "def recovery_plot(T1=1.0, T2=0.05, TI=1.0, T_end=5.0, methode='Inversion'):\n",
    "    \"\"\"\n",
    "    Simuleert een experiment met T₁-recovery gevolgd door T₂-decay.\n",
    "    \n",
    "    Er zijn twee methodes:\n",
    "    \n",
    "      - **Inversion Recovery:** Na een 180° puls geldt: \n",
    "           Mz(t) = M₀ (1 - 2 e^(-t/T₁)), dus Mz(0) = -M₀.\n",
    "      \n",
    "      - **Saturatie Recovery:** Na een saturatie puls geldt:\n",
    "           Mz(t) = M₀ (1 - e^(-t/T₁)), dus Mz(0) = 0.\n",
    "      \n",
    "    TI is het moment waarop de magnetisatie met een 90° puls in het transversale vlak wordt gebracht\n",
    "    en vanaf dat punt volgt de T₂-decay:\n",
    "         S(t) = Mz(TI) e^{-(t-TI)/T₂}  voor t >= TI.\n",
    "    \"\"\"\n",
    "    M0 = 1.0  # Normale magnetisatie\n",
    "    if methode == 'Inversion':\n",
    "        # Inversion recovery: Mz(0) = M0*(1-2) = -M0\n",
    "        t1 = np.linspace(0, TI, 500)\n",
    "        Mz = M0 * (1 - 2*np.exp(-t1/T1))\n",
    "    else:\n",
    "        # Saturatie recovery: Mz(0) = M0*(1-1) = 0\n",
    "        t1 = np.linspace(0, TI, 500)\n",
    "        Mz = M0 * (1 - np.exp(-t1/T1))\n",
    "        \n",
    "    # T2 decay na TI\n",
    "    t2 = np.linspace(TI, T_end, 500)\n",
    "    S = Mz[-1] * np.exp(-(t2 - TI)/T2)\n",
    "    \n",
    "    # Maak een gecombineerde plot\n",
    "    fig, ax = plt.subplots(figsize=(10, 5))\n",
    "    ax.plot(t1, Mz, label=f\"T₁ Recovery ({methode})\", color=\"blue\")\n",
    "    ax.plot(t2, S, label=r\"T₂ Decay: $S(t)=M_z(TI)e^{-(t-TI)/T_2}$\", color=\"magenta\")\n",
    "    ax.axvline(TI, color=\"red\", linestyle=\"--\", label=f\"TI = {TI:.2f} s\")\n",
    "    ax.set_xlabel(\"Tijd (s)\")\n",
    "    ax.set_ylabel(\"Magnetisatie / Signaal (a.u.)\")\n",
    "    ax.set_title(f\"Recovery: T₁ = {T1:.2f} s, T₂ = {T2:.3f} s, TI = {TI:.2f} s ({methode} Recovery)\")\n",
    "    ax.legend()\n",
    "    plt.show()\n",
    "\n",
    "interact(recovery_plot,\n",
    "         T1=FloatSlider(min=0.1, max=3.0, step=0.1, value=1.0, description='T₁ (s)'),\n",
    "         T2=FloatSlider(min=0.01, max=0.2, step=0.005, value=0.05, description='T₂ (s)'),\n",
    "         TI=FloatSlider(min=0.1, max=3.0, step=0.1, value=1.0, description='TI (s)'),\n",
    "         T_end=FloatSlider(min=1, max=5, step=0.1, value=2.5, description='T_end (s)'),\n",
    "         methode=Dropdown(options=['Inversion', 'Saturatie'], value='Inversion', description='Methode'));\n"
   ],
   "id": "f7252b4cf1c8f9d3",
   "outputs": [
    {
     "data": {
      "text/plain": [
       "interactive(children=(FloatSlider(value=1.0, description='T₁ (s)', max=3.0, min=0.1), FloatSlider(value=0.05, …"
      ],
      "application/vnd.jupyter.widget-view+json": {
       "version_major": 2,
       "version_minor": 0,
       "model_id": "9b4e7f497c924bd7af9d6adb881474f0"
      }
     },
     "metadata": {},
     "output_type": "display_data"
    }
   ],
   "execution_count": 22
  },
  {
   "metadata": {
    "ExecuteTime": {
     "end_time": "2025-02-03T20:29:06.017282Z",
     "start_time": "2025-02-03T20:29:04.474526Z"
    }
   },
   "cell_type": "code",
   "source": [
    "import numpy as np\n",
    "import matplotlib.pyplot as plt\n",
    "from ipywidgets import interact, FloatSlider, Dropdown\n",
    "%matplotlib inline\n",
    "\n",
    "def recovery_plot(T1=1.0, T2=0.05, T1_2=1.5, T2_2=0.1, TR=1.0, T_end=5.0, methode='Inversion'):\n",
    "    \"\"\"\n",
    "    Simuleert een experiment met T₁-recovery gevolgd door T₂-decay voor twee sets parameters.\n",
    "    \"\"\"\n",
    "    M0 = 1.0  # Normale magnetisatie\n",
    "    \n",
    "    # Eerste set parameters\n",
    "    if methode == 'Inversion':\n",
    "        t1 = np.linspace(0, TR, 500)\n",
    "        Mz = M0 * (1 - 2*np.exp(-t1/T1))\n",
    "    else:\n",
    "        t1 = np.linspace(0, TR, 500)\n",
    "        Mz = M0 * (1 - np.exp(-t1/T1))\n",
    "        \n",
    "    t2 = np.linspace(TR, T_end, 500)\n",
    "    S = Mz[-1] * np.exp(-(t2 - TR)/T2)\n",
    "    \n",
    "    # Tweede set parameters\n",
    "    if methode == 'Inversion':\n",
    "        Mz2 = M0 * (1 - 2*np.exp(-t1/T1_2))\n",
    "    else:\n",
    "        Mz2 = M0 * (1 - np.exp(-t1/T1_2))\n",
    "        \n",
    "    S2 = Mz2[-1] * np.exp(-(t2 - TR)/T2_2)\n",
    "    \n",
    "    # Plot\n",
    "    fig, ax = plt.subplots(figsize=(12, 6))\n",
    "    \n",
    "    # Eerste dataset\n",
    "    ax.plot(t1, Mz, color=\"blue\", label=f\"Primaire T₁={T1:.2f}s\")\n",
    "    ax.plot(t2, S, color=\"magenta\", label=f\"Primaire T₂={T2:.2f}s\")\n",
    "    \n",
    "    # Tweede dataset\n",
    "    ax.plot(t1, Mz2, color=\"green\", linestyle=\"--\", label=f\"Secundaire T₁={T1_2:.2f}s\")\n",
    "    ax.plot(t2, S2, color=\"red\", linestyle=\"--\", label=f\"Secundaire T₂={T2_2:.2f}s\")\n",
    "    \n",
    "    ax.axvline(TR, color=\"gray\", linestyle=\"--\", label=f\"TR = {TR:.2f} s\")\n",
    "    ax.set_xlabel(\"Tijd (s)\")\n",
    "    ax.set_ylabel(\"Magnetisatie / Signaal (a.u.)\")\n",
    "    ax.set_title(f\"{methode} Recovery: TR = {TR:.2f} s\")\n",
    "    ax.legend()\n",
    "    plt.show()\n",
    "\n",
    "interact(recovery_plot,\n",
    "         T1=FloatSlider(min=0.1, max=3.0, step=0.1, value=1.0, description='T₁s (s)'),\n",
    "         T2=FloatSlider(min=0.01, max=0.2, step=0.005, value=0.05, description='T₂s (s)'),\n",
    "         T1_2=FloatSlider(min=0.1, max=3.0, step=0.1, value=1.5, description='T1l (s)'),\n",
    "         T2_2=FloatSlider(min=0.01, max=0.2, step=0.005, value=0.1, description='T₂l (s)'),\n",
    "         TR=FloatSlider(min=0.1, max=3.0, step=0.1, value=1.0, description='TR (s)'),\n",
    "         T_end=FloatSlider(min=1, max=5, step=0.1, value=2.5, description='T_end (s)'),\n",
    "         methode=Dropdown(options=['Inversion', 'Saturatie'], value='Inversion', description='Methode'));"
   ],
   "id": "ebb2b503e7666f1a",
   "outputs": [
    {
     "data": {
      "text/plain": [
       "interactive(children=(FloatSlider(value=1.0, description='T₁s (s)', max=3.0, min=0.1), FloatSlider(value=0.05,…"
      ],
      "application/vnd.jupyter.widget-view+json": {
       "version_major": 2,
       "version_minor": 0,
       "model_id": "e1d62284bfd843718d7468b91e63743c"
      }
     },
     "metadata": {},
     "output_type": "display_data"
    }
   ],
   "execution_count": 34
  },
  {
   "metadata": {
    "ExecuteTime": {
     "end_time": "2025-02-03T20:37:52.858807Z",
     "start_time": "2025-02-03T20:37:52.579617Z"
    }
   },
   "cell_type": "code",
   "source": [
    "import numpy as np\n",
    "import matplotlib.pyplot as plt\n",
    "from ipywidgets import interact, FloatSlider, Dropdown\n",
    "%matplotlib inline\n",
    "\n",
    "def recovery_plot(T1=1.0, T2=0.05, T1_2=1.5, T2_2=0.1, TI=1.0, TE=1.5, T_end=5.0, methode='Inversion'):\n",
    "    \"\"\"\n",
    "    Simuleert een experiment met T₁-recovery en T₂-decay, inclusief TE-markering.\n",
    "    \"\"\"\n",
    "    M0 = 1.0  # Normale magnetisatie\n",
    "    \n",
    "    # Eerste set parameters\n",
    "    if methode == 'Inversion':\n",
    "        t1 = np.linspace(0, TI, 500)\n",
    "        Mz = M0 * (1 - 2*np.exp(-t1/T1))\n",
    "    else:\n",
    "        t1 = np.linspace(0, TI, 500)\n",
    "        Mz = M0 * (1 - np.exp(-t1/T1))\n",
    "        \n",
    "    t2 = np.linspace(TI, T_end, 500)\n",
    "    S = Mz[-1] * np.exp(-(t2 - TI)/T2)\n",
    "    \n",
    "    # Tweede set parameters\n",
    "    if methode == 'Inversion':\n",
    "        Mz2 = M0 * (1 - 2*np.exp(-t1/T1_2))\n",
    "    else:\n",
    "        Mz2 = M0 * (1 - np.exp(-t1/T1_2))\n",
    "        \n",
    "    S2 = Mz2[-1] * np.exp(-(t2 - TI)/T2_2)\n",
    "    \n",
    "    # Plot\n",
    "    fig, ax = plt.subplots(figsize=(12, 6))\n",
    "    \n",
    "    # Eerste dataset\n",
    "    ax.plot(t1, Mz, color=\"blue\", label=f\"Primaire T₁={T1:.2f}s\")\n",
    "    ax.plot(t2, S, color=\"magenta\", label=f\"Primaire T₂={T2:.2f}s\")\n",
    "    \n",
    "    # Tweede dataset\n",
    "    ax.plot(t1, Mz2, color=\"green\", linestyle=\"--\", label=f\"Secundaire T₁={T1_2:.2f}s\")\n",
    "    ax.plot(t2, S2, color=\"red\", linestyle=\"--\", label=f\"Secundaire T₂={T2_2:.2f}s\")\n",
    "    \n",
    "    # Verticale lijnen voor TI en TE\n",
    "    ax.axvline(TI, color=\"gray\", linestyle=\"--\", label=f\"TI = {TI:.2f} s\")\n",
    "    ax.axvline(TE, color=\"orange\", linestyle=\":\", label=f\"TE = {TE:.2f} s (T Echo)\")\n",
    "    \n",
    "    ax.set_xlabel(\"Tijd (s)\")\n",
    "    ax.set_ylabel(\"Magnetisatie / Signaal (a.u.)\")\n",
    "    ax.set_title(f\"{methode} Recovery: TI = {TI:.2f} s, TE = {TE:.2f} s\")\n",
    "    ax.legend()\n",
    "    plt.show()\n",
    "\n",
    "interact(recovery_plot,\n",
    "         T1=FloatSlider(min=0.1, max=3.0, step=0.1, value=1.0, description='T₁ (s)'),\n",
    "         T2=FloatSlider(min=0.01, max=0.2, step=0.005, value=0.05, description='T₂ (s)'),\n",
    "         T1_2=FloatSlider(min=0.1, max=3.0, step=0.1, value=1.5, description='T₁₂ (s)'),\n",
    "         T2_2=FloatSlider(min=0.01, max=0.2, step=0.005, value=0.1, description='T₂₂ (s)'),\n",
    "         TI=FloatSlider(min=0.1, max=3.0, step=0.1, value=1.0, description='TI (s)'),\n",
    "         TE=FloatSlider(min=0.1, max=5.0, step=0.1, value=1.5, description='TE (s)'),\n",
    "         T_end=FloatSlider(min=1, max=5, step=0.1, value=2.5, description='T_end (s)'),\n",
    "         methode=Dropdown(options=['Inversion', 'Saturatie'], value='Inversion', description='Methode'));"
   ],
   "id": "acaab69585eadc35",
   "outputs": [
    {
     "data": {
      "text/plain": [
       "interactive(children=(FloatSlider(value=1.0, description='T₁ (s)', max=3.0, min=0.1), FloatSlider(value=0.05, …"
      ],
      "application/vnd.jupyter.widget-view+json": {
       "version_major": 2,
       "version_minor": 0,
       "model_id": "43772bceba9149be95568bbbb7753dac"
      }
     },
     "metadata": {},
     "output_type": "display_data"
    }
   ],
   "execution_count": 35
  },
  {
   "metadata": {},
   "cell_type": "code",
   "outputs": [],
   "execution_count": null,
   "source": "",
   "id": "d89cdb45f7500830"
  }
 ],
 "metadata": {
  "kernelspec": {
   "display_name": "Python 3",
   "language": "python",
   "name": "python3"
  },
  "language_info": {
   "codemirror_mode": {
    "name": "ipython",
    "version": 2
   },
   "file_extension": ".py",
   "mimetype": "text/x-python",
   "name": "python",
   "nbconvert_exporter": "python",
   "pygments_lexer": "ipython2",
   "version": "2.7.6"
  }
 },
 "nbformat": 4,
 "nbformat_minor": 5
}
